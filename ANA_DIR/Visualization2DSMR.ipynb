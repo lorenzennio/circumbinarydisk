{
 "cells": [
  {
   "cell_type": "code",
   "execution_count": 1,
   "id": "558084ab",
   "metadata": {},
   "outputs": [
    {
     "name": "stderr",
     "output_type": "stream",
     "text": [
      "/u/lgaertner/miniconda3/lib/python3.9/_collections_abc.py:684: MatplotlibDeprecationWarning: The global colormaps dictionary is no longer considered public API.\n",
      "  self[key]\n"
     ]
    }
   ],
   "source": [
    "import os, sys\n",
    "import h5py\n",
    "import numpy as np\n",
    "import scipy as sp\n",
    "from astropy import constants as const\n",
    "import matplotlib.pyplot as plt\n",
    "import units as un\n",
    "\n",
    "import yt\n",
    "from yt.funcs import mylog\n",
    "mylog.setLevel(40)\n",
    "\n",
    "%matplotlib notebook\n",
    "%matplotlib inline"
   ]
  },
  {
   "cell_type": "code",
   "execution_count": 2,
   "id": "eb390e62",
   "metadata": {},
   "outputs": [],
   "source": [
    "os.chdir(\"/u/lgaertner/RUN_DIR/\")\n",
    "%run ~/CODE_DIR/athena/vis/python/plot_mesh.py -i mesh_structure.dat -o mesh.png"
   ]
  },
  {
   "cell_type": "code",
   "execution_count": 3,
   "id": "d3083235",
   "metadata": {},
   "outputs": [
    {
     "name": "stdout",
     "output_type": "stream",
     "text": [
      "/ccas/u/lgaertner/RUN_DIR/outputSMRTlong\n"
     ]
    }
   ],
   "source": [
    "os.chdir(\"/u/lgaertner/RUN_DIR/outputSMRTlong/\")\n",
    "#os.chdir(\"/u/lgaertner/RUN_DIR/outputSMR/\")\n",
    "print(os.getcwd())"
   ]
  },
  {
   "cell_type": "markdown",
   "id": "cf4fcd63",
   "metadata": {},
   "source": [
    "### Check file content"
   ]
  },
  {
   "cell_type": "code",
   "execution_count": 4,
   "id": "65fb38a9",
   "metadata": {},
   "outputs": [
    {
     "name": "stdout",
     "output_type": "stream",
     "text": [
      "cbd.out1.00000.athdf\n",
      "<KeysViewHDF5 ['Levels', 'LogicalLocations', 'prim', 'x1f', 'x1v', 'x2f', 'x2v', 'x3f', 'x3v']>\n",
      "<HDF5 dataset \"prim\": shape (5, 76, 1, 32, 32), type \"<f4\">\n"
     ]
    }
   ],
   "source": [
    "hdf5files = np.sort([f for f in os.listdir(os.getcwd()) if f.endswith(\".athdf\") and f.startswith(\"cbd.out1\")])\n",
    "#print(hdf5files)\n",
    "for f in hdf5files:\n",
    "    print(f)\n",
    "    file = h5py.File(f, \"r\")\n",
    "    print(file.keys())\n",
    "    print(file[\"prim\"])\n",
    "    break"
   ]
  },
  {
   "cell_type": "code",
   "execution_count": 5,
   "id": "0e70cc74",
   "metadata": {},
   "outputs": [
    {
     "name": "stdout",
     "output_type": "stream",
     "text": [
      "cbd.out3.00000.athdf\n",
      "<KeysViewHDF5 ['Levels', 'LogicalLocations', 'user_out_var', 'x1f', 'x1v', 'x2f', 'x2v', 'x3f', 'x3v']>\n"
     ]
    }
   ],
   "source": [
    "hdf5files = np.sort([f for f in os.listdir(os.getcwd()) if f.endswith(\".athdf\") and f.startswith(\"cbd.out3\")])\n",
    "#print(hdf5files)\n",
    "for f in hdf5files:\n",
    "    print(f)\n",
    "    file = h5py.File(f, \"r\")\n",
    "    print(file.keys())\n",
    "    break"
   ]
  },
  {
   "cell_type": "code",
   "execution_count": 6,
   "id": "1c479cc4",
   "metadata": {},
   "outputs": [
    {
     "name": "stdout",
     "output_type": "stream",
     "text": [
      "<KeysViewHDF5 ['Levels', 'LogicalLocations', 'user_out_var', 'x1f', 'x1v', 'x2f', 'x2v', 'x3f', 'x3v']>\n",
      "Levels <HDF5 dataset \"Levels\": shape (76,), type \">i4\">\n",
      "LogicalLocations <HDF5 dataset \"LogicalLocations\": shape (76, 3), type \">i8\">\n",
      "user_out_var <HDF5 dataset \"user_out_var\": shape (1, 76, 1, 32, 32), type \"<f4\">\n",
      "x1f <HDF5 dataset \"x1f\": shape (76, 33), type \"<f4\">\n",
      "x1v <HDF5 dataset \"x1v\": shape (76, 32), type \"<f4\">\n",
      "x2f <HDF5 dataset \"x2f\": shape (76, 33), type \"<f4\">\n",
      "x2v <HDF5 dataset \"x2v\": shape (76, 32), type \"<f4\">\n",
      "x3f <HDF5 dataset \"x3f\": shape (76, 2), type \"<f4\">\n",
      "x3v <HDF5 dataset \"x3v\": shape (76, 1), type \"<f4\">\n"
     ]
    }
   ],
   "source": [
    "file = h5py.File(hdf5files[0], \"r\")\n",
    "print(file.keys())\n",
    "for key in file.keys():\n",
    "    print(key, file[key])"
   ]
  },
  {
   "cell_type": "markdown",
   "id": "ceec888b",
   "metadata": {},
   "source": [
    "### Analyse and plot data"
   ]
  },
  {
   "cell_type": "code",
   "execution_count": 10,
   "id": "3ff860fc",
   "metadata": {},
   "outputs": [
    {
     "name": "stdout",
     "output_type": "stream",
     "text": [
      "30763.91304920987\n"
     ]
    }
   ],
   "source": [
    "#Define the units\n",
    "mbin = 3. #M_sun\n",
    "abin = 50. #AU\n",
    "u = un.units(mbin, abin)\n",
    "print(1e6/(u.tbin/3.154e7))"
   ]
  },
  {
   "cell_type": "code",
   "execution_count": 15,
   "id": "b6e27d50",
   "metadata": {},
   "outputs": [],
   "source": [
    "class data:\n",
    "    \"\"\"\n",
    "    Class to load, analyse and plot HDF5 data\n",
    "    \"\"\"\n",
    "    def __init__(self, prim_files, temp_files = []):\n",
    "        self.prim_files = prim_files\n",
    "        self.temp_files = temp_files\n",
    "        \n",
    "        self.mbin = u.mbin #M_sun\n",
    "        self.abin = u.abin #AU\n",
    "        self.tbin = u.tbin #s\n",
    "        \n",
    "        self.rho = []\n",
    "        self.press = []\n",
    "        self.v = []\n",
    "        self.v1 = []\n",
    "        self.v2 = []\n",
    "        self.v3 = []\n",
    "        #self.temp = []\n",
    "        self.x1s = []\n",
    "        self.x2s = []\n",
    "        self.x3s = []\n",
    "        self.x1p = []\n",
    "        self.x2p = []\n",
    "        self.x3p = []\n",
    "        self.load()\n",
    "        \n",
    "        self.v = np.sqrt(np.array(self.v1)**2+np.array(self.v2)**2+np.array(self.v3)**2)\n",
    "        \n",
    "        self.kepler = []\n",
    "        self.cent = np.array([self.x1p,self.x2p]).T\n",
    "        \n",
    "        #Centered Kepler, or shifted center\n",
    "        self.kepler_vel()\n",
    "        #self.kepler_vel(center=self.cent[85:86], size=0.6)\n",
    "        \n",
    "        self.tonp()\n",
    "        self.temp = self.press/u.presref / (self.rho/u.densref) * u.tempref\n",
    "        \n",
    "        self.phi = np.zeros(np.shape(self.rho[0,:,:]))\n",
    "        self.vr = np.array([])\n",
    "        self.vphi = np.array([])\n",
    "        self.polar_vel()\n",
    "        \n",
    "    \n",
    "    def load(self):\n",
    "        unit_base= {\"length_unit\":(self.abin,\"AU\"), \"time_unit\":(self.tbin,\"s\"), \"mass_unit\":(self.mbin,\"Msun\")}\n",
    "        \"\"\"\n",
    "        for fprim, ftemp in zip(self.prim_files, self.temp_files):\n",
    "            ds_prim = yt.load(fprim, units_override = unit_base)\n",
    "            all_data_level_1_prim = ds_prim.covering_grid(level=1, \\\n",
    "                                            left_edge=ds_prim.domain_left_edge, dims=ds_prim.domain_dimensions * 2)\n",
    "            ds_temp = yt.load(ftemp, units_override = unit_base)\n",
    "            all_data_level_1_temp = ds_temp.covering_grid(level=1, \\\n",
    "                                            left_edge=ds_temp.domain_left_edge, dims=ds_temp.domain_dimensions * 2)\n",
    "            rho = all_data_level_1_prim[\"rho\"].in_units(\"g/cm**3\").to_ndarray() # rho is a NumPy array\n",
    "            press = all_data_level_1_prim[\"press\"].in_units(\"g/(cm*s**2)\").to_ndarray()\n",
    "            v1 = all_data_level_1_prim[\"vel1\"].in_units(\"km/s\").to_ndarray()\n",
    "            v2 = all_data_level_1_prim[\"vel2\"].in_units(\"km/s\").to_ndarray()\n",
    "            v3 = all_data_level_1_prim[\"vel3\"].in_units(\"km/s\").to_ndarray()\n",
    "            print(ds_prim.field_list)\n",
    "            temp = all_data_level_1_temp[\"user_out_var0\"].to_ndarray()\n",
    "            self.rho.append(rho)\n",
    "            self.press.append(press)\n",
    "            self.v1.append(v1)\n",
    "            self.v2.append(v2)\n",
    "            self.v3.append(v3)\n",
    "            self.temp.append(temp)\n",
    "        \"\"\"\n",
    "        for fprim in self.prim_files:\n",
    "            ds_prim = yt.load(fprim, units_override = unit_base)\n",
    "            all_data_level_1_prim = ds_prim.covering_grid(level=1, \\\n",
    "                                            left_edge=ds_prim.domain_left_edge, dims=ds_prim.domain_dimensions * 2)\n",
    "            rho = all_data_level_1_prim[\"rho\"].in_units(\"g/cm**3\").to_ndarray() # rho is a NumPy array\n",
    "            press = all_data_level_1_prim[\"press\"].in_units(\"g/(cm*s**2)\").to_ndarray()\n",
    "            v1 = all_data_level_1_prim[\"vel1\"].in_units(\"km/s\").to_ndarray()\n",
    "            v2 = all_data_level_1_prim[\"vel2\"].in_units(\"km/s\").to_ndarray()\n",
    "            v3 = all_data_level_1_prim[\"vel3\"].in_units(\"km/s\").to_ndarray()\n",
    "            print(ds_prim.field_list)\n",
    "            self.rho.append(rho)\n",
    "            self.press.append(press)\n",
    "            self.v1.append(v1)\n",
    "            self.v2.append(v2)\n",
    "            self.v3.append(v3)            \n",
    "        #self.load_sink()\n",
    "        \n",
    "    def load_sink(self):\n",
    "        #sink paticle positions\n",
    "        binary_orbit = np.loadtxt('/u/lgaertner/RUN_DIR/binary_orbit.tab')\n",
    "        self.x1s = binary_orbit[:,4]\n",
    "        self.x2s = binary_orbit[:,5]\n",
    "        self.x3s = binary_orbit[:,6]\n",
    "        self.x1p = binary_orbit[:,7]\n",
    "        self.x2p = binary_orbit[:,8]\n",
    "        self.x3p = binary_orbit[:,9]\n",
    "        \n",
    "        self.x1s = np.array(self.x1s)\n",
    "        self.x2s = np.array(self.x2s)\n",
    "        self.x3s = np.array(self.x3s)\n",
    "        self.x1p = np.array(self.x1p)\n",
    "        self.x2p = np.array(self.x2p)\n",
    "        self.x3p = np.array(self.x3p)\n",
    "        \n",
    "    def tonp(self):\n",
    "        self.rho = np.array(self.rho)[:,:,:,0]\n",
    "        self.rho = np.array([r.T for r in self.rho])\n",
    "        self.press = np.array(self.press)[:,:,:,0]\n",
    "        self.press = np.array([r.T for r in self.press])\n",
    "        self.v = np.array(self.v)[:,:,:,0]\n",
    "        self.v = np.array([v.T for v in self.v])\n",
    "        self.v1 = np.array(self.v1)[:,:,:,0]\n",
    "        self.v1 = np.array([v.T for v in self.v1])\n",
    "        self.v2 = np.array(self.v2)[:,:,:,0]\n",
    "        self.v2 = np.array([v.T for v in self.v2])\n",
    "        self.v3 = np.array(self.v3)[:,:,:,0]\n",
    "        self.v3 = np.array([v.T for v in self.v3])\n",
    "        #self.temp = np.array(self.temp)[:,:,:,0]\n",
    "        #self.temp = np.array([v.T for v in self.v3])\n",
    "        \n",
    "        \n",
    "        self.kepler = np.array(self.kepler)\n",
    "            \n",
    "    def plot(self, simdata, fname, lab=\"\", scale = 1., height = []):\n",
    "        if not height:\n",
    "            height = np.array([np.min(simdata), np.max(simdata)])\n",
    "        frame = self.abin * 10\n",
    "        lim = self.abin * 10.*scale\n",
    "        for filename, data in zip(self.prim_files, simdata):\n",
    "            \n",
    "            path = os.path.join(os.getcwd(), 'plots/'+ filename.replace(\".athdf\", fname))\n",
    "            fig = plt.figure(figsize=(10,10))\n",
    "            cmap=\"plasma\"\n",
    "            ax = fig.add_subplot(111)\n",
    "            pos = ax.imshow(data, cmap=cmap, vmin=height[0], vmax=height[1], origin='lower', \\\n",
    "                            extent=[-frame,frame,-frame,frame])\n",
    "            fig.colorbar(pos, ax=ax, label=lab)\n",
    "            \n",
    "            #add point on sink particle\n",
    "            #ax.scatter(*(self.cent[85].T*256/5))\n",
    "            \n",
    "            ax.set_aspect('equal', 'box')\n",
    "            ax.set_xlabel(\"$x_0~[AU]$\")\n",
    "            ax.set_ylabel(\"$x_1~[AU]$\")\n",
    "            ax.set_xlim(-lim, lim)\n",
    "            ax.set_ylim(-lim, lim)\n",
    "            \n",
    "            plt.savefig(path)\n",
    "            plt.close()\n",
    "        \n",
    "            \n",
    "    def kepler_vel(self, center = [], size=15):\n",
    "        \"\"\"\n",
    "        Compute mesh of azimuthal Kepler velocity\n",
    "        \"\"\"\n",
    "        if not np.any(center):\n",
    "            center = np.array([[0.,0.] for i in range(len(self.rho))])\n",
    "        \n",
    "        l = np.shape(self.rho[0])[0]\n",
    "        for c in center:\n",
    "            kepler = np.zeros((l, l))\n",
    "            for i in range(l):\n",
    "                for j in range(l):\n",
    "                    x = (20.*i/l-10.-c[0])\n",
    "                    y = (20.*j/l-10.-c[1])\n",
    "                    kepler[j,i] = 1/(x**2+y**2)**(1./4)\n",
    "                    if 1/kepler[j,i]**2 > size: kepler[j,i] = 0.\n",
    "            kepler[kepler==np.inf] = 0.\n",
    "            #units\n",
    "            kepler = kepler*np.sqrt(self.mbin* const.GM_sun / (self.abin *const.au))\n",
    "            kepler = kepler.to('km/s')\n",
    "            self.kepler.append(kepler.value)\n",
    "    \n",
    "    def polar_vel(self):\n",
    "        #decompose velocity in radial and azimuthal parts\n",
    "        \n",
    "        #compute polar angle on mesh\n",
    "        l = np.shape(self.phi)[0]\n",
    "        X = np.array([[i-l/2+1./2 for i in range(l)] for j in range(l)])\n",
    "        Y = X.T\n",
    "        \n",
    "        self.phi = np.arctan2(Y,X)\n",
    "        \n",
    "        #compute polar velocity\n",
    "        self.vr   = self.v1*np.cos(self.phi) + self.v2*np.sin(self.phi)\n",
    "        self.vphi = -self.v1*np.sin(self.phi) + self.v2*np.cos(self.phi)\n",
    "        \n",
    "        "
   ]
  },
  {
   "cell_type": "code",
   "execution_count": 27,
   "id": "2f96683f",
   "metadata": {},
   "outputs": [
    {
     "name": "stdout",
     "output_type": "stream",
     "text": [
      "/ccas/u/lgaertner/RUN_DIR/outputSMRadiabatic\n",
      "[('athena_pp', 'press'), ('athena_pp', 'rho'), ('athena_pp', 'vel1'), ('athena_pp', 'vel2'), ('athena_pp', 'vel3')]\n"
     ]
    },
    {
     "name": "stderr",
     "output_type": "stream",
     "text": [
      "<ipython-input-15-f0f219b971aa>:165: RuntimeWarning: divide by zero encountered in double_scalars\n",
      "  kepler[j,i] = 1/(x**2+y**2)**(1./4)\n"
     ]
    }
   ],
   "source": [
    "os.chdir(\"/u/lgaertner/RUN_DIR/outputSMRadiabatic/\")\n",
    "#os.chdir(\"/u/lgaertner/RUN_DIR/outputSMR/\")\n",
    "print(os.getcwd())\n",
    "#unit_sys = yt.UnitSystem(\"disk\",\"20.*AU\", \"Msun\", \"Myr\")\n",
    "#yt.unit_system_registry[\"disk\"]\n",
    "prim = np.sort([f for f in os.listdir(os.getcwd()) if f.endswith(\".athdf\") and f.startswith(\"cbd.out1\")])\n",
    "temp = np.sort([f for f in os.listdir(os.getcwd()) if f.endswith(\".athdf\") and f.startswith(\"cbd.out3\")])\n",
    "\n",
    "dat = data(prim[-1:])"
   ]
  },
  {
   "cell_type": "code",
   "execution_count": 28,
   "id": "5bedbadb",
   "metadata": {},
   "outputs": [],
   "source": [
    "dat.plot(dat.rho, \"_rho.png\", lab=\"$\\Sigma ~[g/cm^3]$\", scale = 1./1)\n",
    "dat.plot(dat.press, \"_press.png\", lab=\"$P ~[g/(cm s^2)]$\", scale = 1./3)\n",
    "dat.plot(dat.temp, \"_temp.png\", lab=\"$T ~[K]$\", scale = 1./1.)\n",
    "dat.plot(dat.v, \"_vel.png\", lab=r\"$\\|v\\|~[km/s]$\", scale = 1/1., height=[0.,25.])\n",
    "dat.plot(dat.vr, \"_vel_r.png\", lab=r\"$v_r~[km/s]$\", scale = 1/1., height=[-0.2,0.2])\n",
    "dat.plot(dat.vphi, \"_vel_phi.png\", lab=r\"$v_\\phi~[km/s]$\", scale = 1/1., height=[0.,6.])\n",
    "dat.plot(dat.vphi-dat.kepler, \"_vel_phi-kep.png\", lab=r\"$v_\\phi-v_{kepler}~[km/s]$\", scale = 1/1., height=[-0.2,0.2])\n",
    "#dat.plot(dat.kepler, \"_kep.png\", lab=r\"$v_{kepler}~[km/s]$\", scale = 1.)\n",
    "#dat.plot(dat.v-dat.kepler, \"_vel-kep.png\", lab=r\"$\\|v\\|-v_{kepler}~[km/s]$\", scale = 1/9., height=[-15,5])\n"
   ]
  },
  {
   "cell_type": "code",
   "execution_count": 11,
   "id": "9f839c03",
   "metadata": {},
   "outputs": [
    {
     "name": "stdout",
     "output_type": "stream",
     "text": [
      "91.52837604013116 14.999999519160285\n"
     ]
    }
   ],
   "source": [
    "print(dat.temp.max(), dat.temp.min())"
   ]
  },
  {
   "cell_type": "code",
   "execution_count": 12,
   "id": "f2f1109e",
   "metadata": {},
   "outputs": [
    {
     "name": "stdout",
     "output_type": "stream",
     "text": [
      "7.382759387408567\n",
      "7.295729712875157 km / s\n"
     ]
    }
   ],
   "source": [
    "#check kepler\n",
    "print(np.array(dat.kepler)[0,256+int(256./10), 256])\n",
    "print(np.sqrt(dat.mbin* const.GM_sun / (dat.abin *const.au)).to('km/s'))"
   ]
  },
  {
   "cell_type": "markdown",
   "id": "0d496bf8",
   "metadata": {},
   "source": [
    "### Disk Mass"
   ]
  },
  {
   "cell_type": "code",
   "execution_count": 27,
   "id": "ab73e6a4",
   "metadata": {},
   "outputs": [
    {
     "name": "stdout",
     "output_type": "stream",
     "text": [
      "(1, 512, 512)\n",
      "(410,)\n",
      "4.641445069826316e-12\n",
      "0.008148472731849142\n"
     ]
    }
   ],
   "source": [
    "mtot = []\n",
    "print(np.shape(dat.rho))\n",
    "r = dat.rho[0,int(512/5.):,0] #g/cm^3\n",
    "print(np.shape(r))\n",
    "dx = 20./512. * 50.*const.au.to('cm')\n",
    "dy = 20./512. * 50.*const.au.to('cm')\n",
    "dz = 1. * 2.*const.au.to('cm')\n",
    "print(np.mean(r))\n",
    "mtot.append(np.sum(r))\n",
    "mav = np.mean(mtot)*dx*dy*dz/(dat.mbin*const.M_sun.to('g'))\n",
    "print(mav.value)"
   ]
  },
  {
   "cell_type": "markdown",
   "id": "50feeed9",
   "metadata": {},
   "source": [
    "### Initial velocity  and density profile"
   ]
  },
  {
   "cell_type": "code",
   "execution_count": 5,
   "id": "d394eb3a",
   "metadata": {},
   "outputs": [],
   "source": [
    "def vel(rad):\n",
    "    gm0             = 1.0        #binary mass\n",
    "    semia           = 1.0        #binary semiaxis\n",
    "    rsoft           = 0.1*semia  #?\n",
    "    z               = 0.0        #height\n",
    "    qrat            = 1.0        #mass ratio (secondary/primary)\n",
    "    pslope          = -1.0       #?\n",
    "    dslope          = -0.5       #parameter -p in paper\n",
    "    p0_over_r0      = 0.01       #squared sound\n",
    "    p_over_r        = p0_over_r0\n",
    "    gamma_gas       = 1.0001\n",
    "    alpha           = 0.1\n",
    "    \n",
    "    rad1 = np.sqrt((rad)**2+(rsoft)**2);\n",
    "    rad2 = np.sqrt((rad)**2+(rsoft)**2+(z)**2);\n",
    "    qrpl = 0.75*(semia/rad1)**2*qrat/(1.0+qrat)**2;\n",
    "    vel = np.sqrt((dslope+pslope)*p_over_r + gm0*(rad/rad1)**2/rad1*(1.0+qrpl)+pslope*gm0*(1.0/rad1 -1.0/rad2))\n",
    "    \n",
    "    # correct with radial drift due to accretion\n",
    "    vel_corr = vel- 1.5*p_over_r*gamma_gas*alpha/np.sqrt(gm0/np.sqrt((rad)**2+(rsoft)**2))\n",
    "\n",
    "    return vel, vel_corr\n",
    "\n",
    "def density(rad):\n",
    "    rho0            = 1.0         #from paper\n",
    "    dslope          = -0.5        #parameter -p in paper\n",
    "    p0_over_r0      = 0.01        #squared sound speed\n",
    "    p_over_r        = p0_over_r0\n",
    "    gm0             = 1.0         #binary mass\n",
    "    semia           = 1.0         #binary semiaxis\n",
    "    r0              = semia       #as in paper\n",
    "    z               = 0.0         #height\n",
    "    rsoft           = 0.1*semia   #?\n",
    "    rin             = 2.5         #from input file, R_s in paper\n",
    "    \n",
    "    denmid = rho0*(rad/r0)**dslope\n",
    "    denmid *= np.exp(-(rad/rin)**(-2.0))\n",
    "    dentem = denmid*np.exp(gm0/p_over_r*(1./np.sqrt((rad)**2+(rsoft)**2+(z)**2)-1./np.sqrt((rad)**2+(rsoft)**2)));\n",
    "    den = dentem\n",
    "    return den"
   ]
  },
  {
   "cell_type": "code",
   "execution_count": 14,
   "id": "33f7c0de",
   "metadata": {},
   "outputs": [
    {
     "data": {
      "image/png": "[encoded data removed]",
      "text/plain": [
       "<Figure size 432x288 with 1 Axes>"
      ]
     },
     "metadata": {
      "needs_background": "light"
     },
     "output_type": "display_data"
    }
   ],
   "source": [
    "%matplotlib notebook\n",
    "%matplotlib inline\n",
    "r = np.linspace(1,10,1000) #computation only out to 10a\n",
    "plt.plot(r*50.,density(r)*u.densref)\n",
    "plt.ylabel(r\"$\\rho_0~[g/cm^3]$\")\n",
    "plt.xlabel(\"$r~[AU]$\")\n",
    "plt.title(\"Initial Density Profile\")\n",
    "plt.show()"
   ]
  },
  {
   "cell_type": "code",
   "execution_count": 20,
   "id": "a38d0aa6",
   "metadata": {},
   "outputs": [
    {
     "data": {
      "image/png": "[encoded data removed]",
      "text/plain": [
       "<Figure size 432x288 with 1 Axes>"
      ]
     },
     "metadata": {
      "needs_background": "light"
     },
     "output_type": "display_data"
    }
   ],
   "source": [
    "\n",
    "%matplotlib notebook\n",
    "%matplotlib inline\n",
    "r = np.linspace(1,10,1000) #computation only out to 10a\n",
    "v, v_corr = vel(r)\n",
    "plt.plot(r,v, r, v_corr)\n",
    "plt.ylabel(\"$v_0$\")\n",
    "plt.xlabel(\"$R$\")\n",
    "plt.legend(['initial velocity', '+accretion correction'])\n",
    "plt.show()"
   ]
  },
  {
   "cell_type": "code",
   "execution_count": 26,
   "id": "1b3fa9f6",
   "metadata": {},
   "outputs": [
    {
     "data": {
      "image/png": "[encoded data removed]",
      "text/plain": [
       "<Figure size 432x288 with 1 Axes>"
      ]
     },
     "metadata": {
      "needs_background": "light"
     },
     "output_type": "display_data"
    },
    {
     "data": {
      "image/png": "[encoded data removed]",
      "text/plain": [
       "<Figure size 432x288 with 1 Axes>"
      ]
     },
     "metadata": {
      "needs_background": "light"
     },
     "output_type": "display_data"
    }
   ],
   "source": [
    "\n",
    "%matplotlib notebook\n",
    "%matplotlib inline\n",
    "l = np.shape(dat.rho[0])[0]\n",
    "rad = np.zeros((l,l))\n",
    "for i in range(l):\n",
    "    for j in range(l):\n",
    "        x = (20.*i/l-10.)\n",
    "        y = (20.*j/l-10.)\n",
    "        rad[i,j] = np.sqrt(x**2+y**2)\n",
    "x = rad.flatten()\n",
    "\n",
    "q= np.linspace(-10, 10, l)\n",
    "grid = np.meshgrid(q,q)\n",
    "rad = np.sqrt(grid[0]**2+grid[1]**2)\n",
    "x = rad.flatten()*u.abin\n",
    "\n",
    "R = dat.rho.flatten()/u.densref\n",
    "P = dat.press.flatten()/u.presref\n",
    "T = dat.temp.flatten()\n",
    "\n",
    "r = np.linspace(0.01,14,1000) #computation only out to 10a\n",
    "rho = density(r)#*densref\n",
    "\n",
    "plt.loglog(x,R, 'r.')\n",
    "plt.loglog(x,P, 'g.')\n",
    "#plt.loglog(x,T, 'b.')\n",
    "#ax.plot(x,P/R)\n",
    "plt.loglog(r*u.abin,rho)\n",
    "\n",
    "\n",
    "plt.xlim([1e1,1e3])\n",
    "plt.ylim([1e-12,1e3])\n",
    "plt.ylabel(r\"$[code units]$\")\n",
    "plt.xlabel(\"$r~[AU]$\")\n",
    "plt.legend([r\"$\\rho$\", r\"$P$\", r\"$\\rho$ Profile\"])\n",
    "\n",
    "plt.show()\n",
    "\n",
    "#plt.plot(x,P, 'g.')\n",
    "plt.plot(x,T, 'b.')\n",
    "\n",
    "plt.xlim([0,400])\n",
    "plt.ylabel(r\"$T[K]$\")\n",
    "plt.xlabel(\"$r~[AU]$\")\n",
    "\n",
    "plt.show()"
   ]
  },
  {
   "cell_type": "markdown",
   "id": "5aaf2f7d",
   "metadata": {},
   "source": [
    "### Initial temperature profile"
   ]
  },
  {
   "cell_type": "code",
   "execution_count": 24,
   "id": "621cf110",
   "metadata": {},
   "outputs": [],
   "source": [
    "# Compute initial temp profile\n",
    "\n",
    "def TempProfileCyl(den0):\n",
    "    T0 = 15.0 #K\n",
    "    temp=0\n",
    "    if(den0*u.densref<1.e-12):\n",
    "        temp = T0+1.5*1.e13*den0*u.densref\n",
    "    elif (1.e-12 <= den0*u.densref and den0*u.densref <= 1.e-11):\n",
    "        temp = (T0+15.)*(den0*u.densref*1.e12)**0.6\n",
    "    elif (1.e-11 < den0*u.densref and den0*u.densref <= 3.e-9):\n",
    "        temp = 10**0.6*(T0+15.)*(den0*u.densref*1.e11)**0.44\n",
    "    return temp\n"
   ]
  },
  {
   "cell_type": "code",
   "execution_count": 25,
   "id": "327f4c59",
   "metadata": {},
   "outputs": [
    {
     "data": {
      "image/png": "[encoded data removed]",
      "text/plain": [
       "<Figure size 432x288 with 1 Axes>"
      ]
     },
     "metadata": {
      "needs_background": "light"
     },
     "output_type": "display_data"
    }
   ],
   "source": [
    "dens = np.logspace(-16, -9, 1000)\n",
    "tem = [TempProfileCyl(d/u.densref) for d in dens]\n",
    "plt.loglog(dens, tem, \"-\")\n",
    "plt.xlabel(r'$\\rho ~[g/cm^3]$')\n",
    "plt.ylabel(r'$T ~[K]$')\n",
    "plt.show()"
   ]
  },
  {
   "cell_type": "code",
   "execution_count": 26,
   "id": "6edff764",
   "metadata": {},
   "outputs": [
    {
     "data": {
      "image/png": "[encoded data removed]",
      "text/plain": [
       "<Figure size 432x288 with 1 Axes>"
      ]
     },
     "metadata": {
      "needs_background": "light"
     },
     "output_type": "display_data"
    }
   ],
   "source": [
    "\n",
    "%matplotlib notebook\n",
    "%matplotlib inline\n",
    "q=np.linspace(-10, 10, l)\n",
    "grid = np.meshgrid(q,q)\n",
    "rad = np.sqrt(grid[0]**2+grid[1]**2)\n",
    "ra = rad.flatten()\n",
    "\n",
    "x = []\n",
    "y = []\n",
    "for d, t, r in zip(dat.rho[0].flatten(), dat.temp[0].flatten(), rad.flatten()):\n",
    "    if r > 0:\n",
    "        x.append(d)\n",
    "        y.append(t)\n",
    "plt.loglog(x,y, \".\")\n",
    "plt.xlabel(r'$\\rho ~[g/cm^3]$')\n",
    "plt.ylabel(r'$T ~[K]$')\n",
    "plt.ylim(10, 3e2)\n",
    "dens = np.logspace(-17, -11, 1000)\n",
    "tem = [TempProfileCyl(d/u.densref) for d in dens]\n",
    "plt.loglog(dens, tem, \"-\")\n",
    "plt.legend([r\"data\", r\"model\"])\n",
    "plt.show()"
   ]
  },
  {
   "cell_type": "markdown",
   "id": "237f4314",
   "metadata": {},
   "source": [
    "### Find Flooring"
   ]
  },
  {
   "cell_type": "code",
   "execution_count": null,
   "id": "2a977b25",
   "metadata": {},
   "outputs": [],
   "source": [
    "#self.temp = self.press / self.rho * mass_H * mu/k_B\n",
    "dfloor = 1.e-6\n",
    "T0 = 15.\n",
    "pfloor = T0 /u.tempref*dfloor\n",
    "print(pfloor)"
   ]
  },
  {
   "cell_type": "code",
   "execution_count": null,
   "id": "e0483a76",
   "metadata": {},
   "outputs": [],
   "source": []
  }
 ],
 "metadata": {
  "kernelspec": {
   "display_name": "Python 3 (ipykernel)",
   "language": "python",
   "name": "python3"
  },
  "language_info": {
   "codemirror_mode": {
    "name": "ipython",
    "version": 3
   },
   "file_extension": ".py",
   "mimetype": "text/x-python",
   "name": "python",
   "nbconvert_exporter": "python",
   "pygments_lexer": "ipython3",
   "version": "3.9.1"
  }
 },
 "nbformat": 4,
 "nbformat_minor": 5
}
