{
 "cells": [
  {
   "cell_type": "code",
   "execution_count": 1,
   "metadata": {},
   "outputs": [
    {
     "name": "stderr",
     "output_type": "stream",
     "text": [
      "/u/lgaertner/miniconda3/lib/python3.9/_collections_abc.py:684: MatplotlibDeprecationWarning: The global colormaps dictionary is no longer considered public API.\n",
      "  self[key]\n"
     ]
    }
   ],
   "source": [
    "import yt\n",
    "import os, sys\n",
    "import h5py\n",
    "import numpy as np\n",
    "import matplotlib.pyplot as plt\n",
    "import matplotlib.cm as cm\n",
    "import cv2\n",
    "from yt.funcs import mylog\n",
    "mylog.setLevel(40)\n",
    "%matplotlib inline"
   ]
  },
  {
   "cell_type": "code",
   "execution_count": 2,
   "metadata": {},
   "outputs": [
    {
     "name": "stdout",
     "output_type": "stream",
     "text": [
      "/ccas/u/lgaertner/RUN_DIR/output\n"
     ]
    }
   ],
   "source": [
    "os.chdir(\"/u/lgaertner/RUN_DIR/output/\")\n",
    "print(os.getcwd())"
   ]
  },
  {
   "cell_type": "code",
   "execution_count": 3,
   "metadata": {},
   "outputs": [],
   "source": [
    "class data:\n",
    "    \"\"\"\n",
    "    Class to load HDF5 data\n",
    "        To be improved\n",
    "    \"\"\"\n",
    "    def __init__(self):\n",
    "        self.rhos = []\n",
    "    \n",
    "    def load(self, files):\n",
    "        unit_base= {\"length_unit\":(20.,\"AU\"), \"time_unit\":(1.0,\"Myr\"), \"mass_unit\":(1.0,\"Msun\")}\n",
    "        for filename in files:\n",
    "            ds = yt.load(filename, units_override = unit_base)\n",
    "            #print(ds.field_list)\n",
    "            left_edge = ds.domain_left_edge\n",
    "            dims = ds.domain_dimensions\n",
    "            grid = ds.covering_grid(level=0, left_edge=left_edge, dims=dims)\n",
    "            rho = grid[\"rho\"].in_units(\"1e-9 * g/cm**3\").to_ndarray() # rho is a NumPy array\n",
    "            self.rhos.append(rho)\n",
    "\n",
    "def plot(rho, amin, amax, filename):\n",
    "    path = os.path.join(os.getcwd(), 'plots/'+ filename.replace(\".athdf\", \".png\"))\n",
    "    fig = plt.figure(figsize=(10,10))\n",
    "    cmap=\"plasma\"\n",
    "    ax = fig.add_subplot(111)\n",
    "    #ax.contourf(rho[:,:,0].T, 100 ,cmap=cmap)\n",
    "    ax.set_aspect('equal', 'box')\n",
    "    pos = ax.imshow(rho[:,:,0].T, cmap=cmap, vmin=amin, vmax=amax/2, origin='lower', extent=[-10,10,-10,10])\n",
    "    fig.colorbar(pos, ax=ax, label=\"$\\Sigma$\")\n",
    "    ax.set_xlabel(\"$x_0$\")\n",
    "    ax.set_ylabel(\"$x_1$\")\n",
    "    plt.savefig(path)\n",
    "    plt.close()"
   ]
  },
  {
   "cell_type": "markdown",
   "metadata": {},
   "source": [
    "### Investigate data format"
   ]
  },
  {
   "cell_type": "code",
   "execution_count": 4,
   "metadata": {},
   "outputs": [
    {
     "name": "stdout",
     "output_type": "stream",
     "text": [
      "Coordinates b'cartesian'\n",
      "DatasetNames [b'prim']\n",
      "MaxLevel 0\n",
      "MeshBlockSize [200 250   1]\n",
      "NumCycles 15538\n",
      "NumMeshBlocks 20\n",
      "NumVariables [4]\n",
      "RootGridSize [1000 1000    1]\n",
      "RootGridX1 [-10.  10.   1.]\n",
      "RootGridX2 [-10.  10.   1.]\n",
      "RootGridX3 [-0.5  0.5  1. ]\n",
      "Time 40.82058\n",
      "VariableNames [b'rho' b'vel1' b'vel2' b'vel3']\n"
     ]
    }
   ],
   "source": [
    "f = h5py.File(\"cbd.out1.00065.athdf\", 'r')\n",
    "for key in f.attrs:\n",
    "    print(key, f.attrs[key])"
   ]
  },
  {
   "cell_type": "markdown",
   "metadata": {},
   "source": [
    "### Athena plotting script "
   ]
  },
  {
   "cell_type": "code",
   "execution_count": 5,
   "metadata": {
    "scrolled": false
   },
   "outputs": [
    {
     "name": "stderr",
     "output_type": "stream",
     "text": [
      "/u/lgaertner/CODE_DIR/athena/vis/python/plot_slice.py:100: UserWarning: Coordinates not recognized; results may be misleading\n",
      "  warnings.warn('Coordinates not recognized; results may be misleading')\n"
     ]
    }
   ],
   "source": [
    "%run ~/CODE_DIR/athena/vis/python/plot_slice.py cbd.out1.00100.athdf rho slice.png --colormap plasma\n",
    "#Why does it not recognise cartesian coords?"
   ]
  },
  {
   "cell_type": "markdown",
   "metadata": {},
   "source": [
    "### Import density data "
   ]
  },
  {
   "cell_type": "code",
   "execution_count": 6,
   "metadata": {},
   "outputs": [],
   "source": [
    "rhos = []\n",
    "hdf5files = np.sort([f for f in os.listdir(os.getcwd()) if f.endswith(\".athdf\")])\n",
    "dat = data()\n",
    "dat.load(hdf5files)\n",
    "rhos = dat.rhos\n",
    "#for file in hdf5files:\n",
    "#    grid = load(file)\n",
    "#    rho = grid[\"rho\"].in_units(\"1e-9 * g/cm**3\").to_ndarray() # rho is a NumPy array\n",
    "#    rhos.append(rho)\n",
    "rhos = np.array(rhos)\n",
    "amin = np.min(rhos)\n",
    "amax = np.max(rhos)"
   ]
  },
  {
   "cell_type": "markdown",
   "metadata": {},
   "source": [
    "### Plots"
   ]
  },
  {
   "cell_type": "code",
   "execution_count": 7,
   "metadata": {},
   "outputs": [],
   "source": [
    "for (file, rho) in zip(hdf5files,rhos):\n",
    "    plot(rho, amin, amax, file)"
   ]
  },
  {
   "cell_type": "code",
   "execution_count": 8,
   "metadata": {},
   "outputs": [],
   "source": [
    "plot(rhos[-1], amin, amax, \"test.png\")"
   ]
  },
  {
   "cell_type": "markdown",
   "metadata": {},
   "source": [
    "### Video"
   ]
  },
  {
   "cell_type": "code",
   "execution_count": 9,
   "metadata": {},
   "outputs": [],
   "source": [
    "images = []\n",
    "os.chdir(\"/u/lgaertner/RUN_DIR/output/plots/\")\n",
    "files = np.sort([f for f in os.listdir(os.getcwd()) if f.endswith(\".png\")])\n",
    "for f in files:\n",
    "    images.append(cv2.imread(f))\n",
    "height,width,layers=np.shape(images[1])\n",
    "video=cv2.VideoWriter('evolution.avi',cv2.VideoWriter_fourcc(*'DIVX'), 4,(width,height), True)\n",
    "for i in images:\n",
    "    video.write(i)\n",
    "cv2.destroyAllWindows()\n",
    "video.release()\n",
    "os.chdir(\"/u/lgaertner/RUN_DIR/output/\")"
   ]
  },
  {
   "cell_type": "markdown",
   "metadata": {},
   "source": [
    "### Spacetime plot"
   ]
  },
  {
   "cell_type": "code",
   "execution_count": 10,
   "metadata": {},
   "outputs": [
    {
     "data": {
      "image/png": "[encoded data removed]",
      "text/plain": [
       "<Figure size 432x288 with 2 Axes>"
      ]
     },
     "metadata": {
      "needs_background": "light"
     },
     "output_type": "display_data"
    }
   ],
   "source": [
    "%matplotlib inline\n",
    "spacetime = rhos[:,500:,500, 0]\n",
    "cmap=\"plasma\"\n",
    "#print(np.max(spacetime))\n",
    "plt.contourf(spacetime, 100 ,cmap=cmap, vmin = 0., vmax=0.08)\n",
    "plt.colorbar(label=\"$\\Sigma$\")\n",
    "plt.xlabel(\"r/a\")\n",
    "plt.ylabel(\"$t~[P_B]$\")\n",
    "plt.savefig('/u/lgaertner/RUN_DIR/output/plots/spacetime.png')\n",
    "plt.show()"
   ]
  },
  {
   "cell_type": "code",
   "execution_count": 11,
   "metadata": {},
   "outputs": [
    {
     "name": "stdout",
     "output_type": "stream",
     "text": [
      "(500,)\n",
      "(500,)\n"
     ]
    },
    {
     "data": {
      "image/png": "[encoded data removed]",
      "text/plain": [
       "<Figure size 432x288 with 1 Axes>"
      ]
     },
     "metadata": {
      "needs_background": "light"
     },
     "output_type": "display_data"
    }
   ],
   "source": [
    "accretion = rhos[-1,500:,500, 0]-rhos[-2,500:,500, 0]\n",
    "print(np.shape(accretion))\n",
    "r = np.arange(500)\n",
    "print(np.shape(r))\n",
    "plt.plot(r, accretion)\n",
    "plt.show()"
   ]
  },
  {
   "cell_type": "code",
   "execution_count": 12,
   "metadata": {},
   "outputs": [
    {
     "name": "stdout",
     "output_type": "stream",
     "text": [
      "/ccas/u/lgaertner/RUN_DIR/output\n"
     ]
    }
   ],
   "source": [
    "print(os.getcwd())"
   ]
  },
  {
   "cell_type": "code",
   "execution_count": null,
   "metadata": {},
   "outputs": [],
   "source": []
  },
  {
   "cell_type": "code",
   "execution_count": null,
   "metadata": {},
   "outputs": [],
   "source": []
  },
  {
   "cell_type": "code",
   "execution_count": null,
   "metadata": {},
   "outputs": [],
   "source": []
  }
 ],
 "metadata": {
  "anaconda-cloud": {},
  "kernelspec": {
   "display_name": "Python 3 (ipykernel)",
   "language": "python",
   "name": "python3"
  },
  "language_info": {
   "codemirror_mode": {
    "name": "ipython",
    "version": 3
   },
   "file_extension": ".py",
   "mimetype": "text/x-python",
   "name": "python",
   "nbconvert_exporter": "python",
   "pygments_lexer": "ipython3",
   "version": "3.9.1"
  }
 },
 "nbformat": 4,
 "nbformat_minor": 1
}
