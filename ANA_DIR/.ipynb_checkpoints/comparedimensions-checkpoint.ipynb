{
 "cells": [
  {
   "cell_type": "code",
   "execution_count": null,
   "id": "d419c345",
   "metadata": {},
   "outputs": [],
   "source": [
    "import os, sys\n",
    "import h5py\n",
    "import numpy as np\n",
    "import scipy as sp\n",
    "from astropy import constants as const\n",
    "import matplotlib.pyplot as plt\n",
    "import units as un\n",
    "from analyze2d import data\n",
    "\n",
    "import yt\n",
    "from yt.funcs import mylog\n",
    "mylog.setLevel(40)\n",
    "\n",
    "%matplotlib notebook\n",
    "%matplotlib inline"
   ]
  },
  {
   "cell_type": "code",
   "execution_count": null,
   "id": "c011b690",
   "metadata": {},
   "outputs": [],
   "source": [
    "#Define the units\n",
    "mbin = 3. #M_sun\n",
    "abin = 50. #AU\n",
    "u = un.units(mbin, abin)"
   ]
  },
  {
   "cell_type": "code",
   "execution_count": null,
   "id": "5749b247",
   "metadata": {},
   "outputs": [],
   "source": []
  }
 ],
 "metadata": {
  "kernelspec": {
   "display_name": "Python 3 (ipykernel)",
   "language": "python",
   "name": "python3"
  },
  "language_info": {
   "codemirror_mode": {
    "name": "ipython",
    "version": 3
   },
   "file_extension": ".py",
   "mimetype": "text/x-python",
   "name": "python",
   "nbconvert_exporter": "python",
   "pygments_lexer": "ipython3",
   "version": "3.9.1"
  }
 },
 "nbformat": 4,
 "nbformat_minor": 5
}
