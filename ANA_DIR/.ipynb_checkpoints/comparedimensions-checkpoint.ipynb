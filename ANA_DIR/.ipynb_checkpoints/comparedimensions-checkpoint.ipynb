{
 "cells": [
  {
   "cell_type": "code",
   "execution_count": 1,
   "id": "d419c345",
   "metadata": {},
   "outputs": [
    {
     "name": "stderr",
     "output_type": "stream",
     "text": [
      "/u/lgaertner/miniconda3/lib/python3.9/_collections_abc.py:684: MatplotlibDeprecationWarning: The global colormaps dictionary is no longer considered public API.\n",
      "  self[key]\n"
     ]
    }
   ],
   "source": [
    "import os, sys\n",
    "import h5py\n",
    "import numpy as np\n",
    "import scipy as sp\n",
    "from astropy import constants as const\n",
    "import matplotlib.pyplot as plt\n",
    "import units as un\n",
    "from readdata import *\n",
    "\n",
    "import yt\n",
    "from yt.funcs import mylog\n",
    "mylog.setLevel(40)\n",
    "\n",
    "%matplotlib notebook\n",
    "%matplotlib inline"
   ]
  },
  {
   "cell_type": "markdown",
   "id": "efde2da1",
   "metadata": {},
   "source": [
    "## NEW CLASS"
   ]
  },
  {
   "cell_type": "code",
   "execution_count": 2,
   "id": "05ccbc3c",
   "metadata": {},
   "outputs": [],
   "source": [
    "#Define the units\n",
    "mbin = 3. #M_sun\n",
    "abin = 50. #AU\n",
    "u = un.units(mbin, abin)"
   ]
  },
  {
   "cell_type": "code",
   "execution_count": 3,
   "id": "68272874",
   "metadata": {},
   "outputs": [
    {
     "name": "stdout",
     "output_type": "stream",
     "text": [
      "Initializing data readin\n",
      "Read cbd.out1.01000.athdf\n",
      "Processed all data\n"
     ]
    }
   ],
   "source": [
    "level = 2\n",
    "\n",
    "os.chdir(\"/u/lgaertner/BINARY/RUN_DIR/outputSMR2D\")\n",
    "prim = np.sort([f for f in os.listdir(os.getcwd()) if f.endswith(\".athdf\") and f.startswith(\"cbd.out1\")])\n",
    "simulation2d = data2d(prim[-1:], u, level)\n",
    "\n",
    "#level=1\n",
    "\n",
    "#os.chdir(\"/u/lgaertner/BINARY/RUN_DIR/outputSMR3Dlong\")\n",
    "#prim = np.sort([f for f in os.listdir(os.getcwd()) if f.endswith(\".athdf\") and f.startswith(\"cbd.out1\")])\n",
    "#simulation3d = data3d(prim[-1:], u, level)"
   ]
  },
  {
   "cell_type": "code",
   "execution_count": 6,
   "id": "e3a81637",
   "metadata": {},
   "outputs": [
    {
     "data": {
      "text/plain": [
       "1024"
      ]
     },
     "execution_count": 6,
     "metadata": {},
     "output_type": "execute_result"
    }
   ],
   "source": [
    "coord = cylindpolar(simulation2d.rho[0], 10)"
   ]
  },
  {
   "cell_type": "code",
   "execution_count": 4,
   "id": "8a760618",
   "metadata": {},
   "outputs": [
    {
     "name": "stdout",
     "output_type": "stream",
     "text": [
      "Drew cbd.out1.00999.athdf\n",
      "Drew cbd.out1.01000.athdf\n",
      "(2, 1024, 1024)\n"
     ]
    }
   ],
   "source": [
    "simulation2d.draw(simulation2d.rho, \"_rho.png\", lab=\"$\\Sigma ~[g/cm^3]$\", scale = 1./1)\n",
    "simulation2d.plot(simulation2d.press, \"_press.png\", lab=\"$P ~[g/(cm s^2)]$\", scale = 1./1)\n",
    "simulation2d.plot(simulation2d.temp, \"_temp.png\", lab=\"$T ~[K]$\", scale = 1./1.)"
   ]
  },
  {
   "cell_type": "code",
   "execution_count": null,
   "id": "2a7beb74",
   "metadata": {},
   "outputs": [
    {
     "name": "stdout",
     "output_type": "stream",
     "text": [
      "Initializing data readin\n",
      "Read cbd.out1.00006.athdf\n",
      "Read cbd.out1.00007.athdf\n",
      "Read cbd.out1.00008.athdf\n",
      "Read cbd.out1.00009.athdf\n",
      "Read cbd.out1.00010.athdf\n"
     ]
    }
   ],
   "source": [
    "level=2\n",
    "\n",
    "os.chdir(\"/u/lgaertner/BINARY/RUN_DIR/outputSMR3Dllong\")\n",
    "prim = np.sort([f for f in os.listdir(os.getcwd()) if f.endswith(\".athdf\") and f.startswith(\"cbd.out1\")])\n",
    "simulation3d = data3d(prim[6:], u, level)"
   ]
  },
  {
   "cell_type": "code",
   "execution_count": null,
   "id": "f5dd7bbe",
   "metadata": {},
   "outputs": [],
   "source": [
    "#simulation3d.plot3d(simulation3d.temp, \"_rho.png\", lab=\"$\\Sigma ~[g/cm^3]$\")\n",
    "simulation3d.column(simulation3d.rho, np.mean, \"_rho.png\", lab=\"$\\Sigma ~[g/cm^3]$\", scale = 1./1)\n",
    "simulation3d.column(simulation3d.temp, np.max, \"_temp.png\", lab=\"$T ~[K]$\", scale = 1./1)"
   ]
  },
  {
   "cell_type": "code",
   "execution_count": null,
   "id": "f00b73dc",
   "metadata": {},
   "outputs": [],
   "source": [
    "print(np.shape(sim))"
   ]
  },
  {
   "cell_type": "code",
   "execution_count": 4,
   "id": "7776ada4",
   "metadata": {},
   "outputs": [
    {
     "ename": "NameError",
     "evalue": "name 'codelength' is not defined",
     "output_type": "error",
     "traceback": [
      "\u001b[0;31m---------------------------------------------------------------------------\u001b[0m",
      "\u001b[0;31mNameError\u001b[0m                                 Traceback (most recent call last)",
      "\u001b[0;32m/tmp/ipykernel_6689/219954594.py\u001b[0m in \u001b[0;36m<module>\u001b[0;34m\u001b[0m\n\u001b[0;32m----> 1\u001b[0;31m \u001b[0mcoord\u001b[0m \u001b[0;34m=\u001b[0m \u001b[0mcylindpolar\u001b[0m\u001b[0;34m(\u001b[0m\u001b[0msimulation2d\u001b[0m\u001b[0;34m.\u001b[0m\u001b[0mrho\u001b[0m\u001b[0;34m[\u001b[0m\u001b[0;36m0\u001b[0m\u001b[0;34m]\u001b[0m\u001b[0;34m,\u001b[0m \u001b[0;36m10\u001b[0m\u001b[0;34m)\u001b[0m\u001b[0;34m\u001b[0m\u001b[0;34m\u001b[0m\u001b[0m\n\u001b[0m",
      "\u001b[0;32m/ccas/u/lgaertner/BINARY/ANA_DIR/readdata.py\u001b[0m in \u001b[0;36m__init__\u001b[0;34m(self, mesh, codelenth)\u001b[0m\n\u001b[1;32m    117\u001b[0m         \u001b[0mself\u001b[0m\u001b[0;34m.\u001b[0m\u001b[0mphi\u001b[0m \u001b[0;34m=\u001b[0m \u001b[0mnp\u001b[0m\u001b[0;34m.\u001b[0m\u001b[0mzeros_like\u001b[0m\u001b[0;34m(\u001b[0m\u001b[0mmesh\u001b[0m\u001b[0;34m)\u001b[0m\u001b[0;34m\u001b[0m\u001b[0;34m\u001b[0m\u001b[0m\n\u001b[1;32m    118\u001b[0m \u001b[0;34m\u001b[0m\u001b[0m\n\u001b[0;32m--> 119\u001b[0;31m         \u001b[0mself\u001b[0m\u001b[0;34m.\u001b[0m\u001b[0mradius\u001b[0m\u001b[0;34m(\u001b[0m\u001b[0mcodelength\u001b[0m\u001b[0;34m)\u001b[0m\u001b[0;34m\u001b[0m\u001b[0;34m\u001b[0m\u001b[0m\n\u001b[0m\u001b[1;32m    120\u001b[0m \u001b[0;34m\u001b[0m\u001b[0m\n\u001b[1;32m    121\u001b[0m     \u001b[0;32mdef\u001b[0m \u001b[0mradius\u001b[0m\u001b[0;34m(\u001b[0m\u001b[0mself\u001b[0m\u001b[0;34m,\u001b[0m \u001b[0mcodelength\u001b[0m\u001b[0;34m)\u001b[0m\u001b[0;34m:\u001b[0m\u001b[0;34m\u001b[0m\u001b[0;34m\u001b[0m\u001b[0m\n",
      "\u001b[0;31mNameError\u001b[0m: name 'codelength' is not defined"
     ]
    }
   ],
   "source": []
  },
  {
   "cell_type": "code",
   "execution_count": null,
   "id": "ed447dd0",
   "metadata": {},
   "outputs": [],
   "source": []
  }
 ],
 "metadata": {
  "kernelspec": {
   "display_name": "Python 3 (ipykernel)",
   "language": "python",
   "name": "python3"
  },
  "language_info": {
   "codemirror_mode": {
    "name": "ipython",
    "version": 3
   },
   "file_extension": ".py",
   "mimetype": "text/x-python",
   "name": "python",
   "nbconvert_exporter": "python",
   "pygments_lexer": "ipython3",
   "version": "3.9.1"
  }
 },
 "nbformat": 4,
 "nbformat_minor": 5
}
